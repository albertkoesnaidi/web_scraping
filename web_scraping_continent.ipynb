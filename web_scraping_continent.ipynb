{
 "cells": [
  {
   "cell_type": "markdown",
   "metadata": {},
   "source": [
    "#### Web scraping continents using www.worldometers.info"
   ]
  },
  {
   "cell_type": "code",
   "execution_count": 1,
   "metadata": {},
   "outputs": [],
   "source": [
    "import requests\n",
    "from bs4 import BeautifulSoup \n",
    "import re"
   ]
  },
  {
   "cell_type": "code",
   "execution_count": 19,
   "metadata": {},
   "outputs": [],
   "source": [
    "continents = ['asia', 'europe', 'africa', 'north-america', 'south-america','australia/oceania']"
   ]
  },
  {
   "cell_type": "code",
   "execution_count": 20,
   "metadata": {},
   "outputs": [],
   "source": [
    "def scrap_countries(continent):\n",
    "    r = requests.get(f\"https://www.worldometers.info/geography/7-continents/{continent}/\")\n",
    "    c=r.content\n",
    "    soup=BeautifulSoup(c,'html.parser')\n",
    "\n",
    "    temp=[i.text for i in soup.find_all('tr')]\n",
    "    temp = [i.split(',') for i in temp]\n",
    "    del temp[0]\n",
    "\n",
    "    return [(re.sub('[^a-zA-Z]+', ' ', i[0])).strip() for i in temp]"
   ]
  },
  {
   "cell_type": "code",
   "execution_count": 24,
   "metadata": {},
   "outputs": [
    {
     "data": {
      "text/plain": [
       "['Australia',\n",
       " 'Papua New Guinea',\n",
       " 'New Zealand',\n",
       " 'Fiji',\n",
       " 'Solomon Islands',\n",
       " 'Micronesia',\n",
       " 'Vanuatu',\n",
       " 'French Polynesia',\n",
       " 'New Caledonia',\n",
       " 'Samoa',\n",
       " 'Guam',\n",
       " 'Kiribati',\n",
       " 'Tonga',\n",
       " 'Northern Mariana Islands',\n",
       " 'American Samoa',\n",
       " 'Marshall Islands',\n",
       " 'Palau',\n",
       " 'Cook Islands',\n",
       " 'Nauru',\n",
       " 'Wallis and Futuna Islands',\n",
       " 'Tuvalu',\n",
       " 'Niue',\n",
       " 'Tokelau']"
      ]
     },
     "execution_count": 24,
     "metadata": {},
     "output_type": "execute_result"
    }
   ],
   "source": [
    "scrap_countries('australia/oceania')"
   ]
  },
  {
   "cell_type": "code",
   "execution_count": null,
   "metadata": {},
   "outputs": [],
   "source": []
  }
 ],
 "metadata": {
  "kernelspec": {
   "display_name": "Python 3",
   "language": "python",
   "name": "python3"
  },
  "language_info": {
   "codemirror_mode": {
    "name": "ipython",
    "version": 3
   },
   "file_extension": ".py",
   "mimetype": "text/x-python",
   "name": "python",
   "nbconvert_exporter": "python",
   "pygments_lexer": "ipython3",
   "version": "3.9.1"
  }
 },
 "nbformat": 4,
 "nbformat_minor": 2
}
